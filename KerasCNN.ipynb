{
  "nbformat": 4,
  "nbformat_minor": 0,
  "metadata": {
    "colab": {
      "provenance": [],
      "collapsed_sections": [],
      "authorship_tag": "ABX9TyP2LaWJ4sS21RlbkycGxEXd",
      "include_colab_link": true
    },
    "kernelspec": {
      "name": "python3",
      "display_name": "Python 3"
    },
    "language_info": {
      "name": "python"
    },
    "accelerator": "GPU",
    "gpuClass": "standard"
  },
  "cells": [
    {
      "cell_type": "markdown",
      "metadata": {
        "id": "view-in-github",
        "colab_type": "text"
      },
      "source": [
        "<a href=\"https://colab.research.google.com/github/beesaprathyusha20/Deep-Learning/blob/main/KerasCNN.ipynb\" target=\"_parent\"><img src=\"https://colab.research.google.com/assets/colab-badge.svg\" alt=\"Open In Colab\"/></a>"
      ]
    },
    {
      "cell_type": "code",
      "execution_count": 2,
      "metadata": {
        "id": "tsEjQuVszhTF"
      },
      "outputs": [],
      "source": [
        "import numpy as np\n",
        "from keras.datasets import mnist\n",
        "from tensorflow.keras.utils import to_categorical\n",
        "from keras.models import Sequential\n",
        "from keras.layers import Conv2D,MaxPooling2D,Dense,Flatten\n",
        "import matplotlib.pyplot as plt"
      ]
    },
    {
      "cell_type": "code",
      "source": [
        "(x_train,y_train),(x_test,y_test) = mnist.load_data()"
      ],
      "metadata": {
        "colab": {
          "base_uri": "https://localhost:8080/"
        },
        "id": "GxrWPK1v0xWf",
        "outputId": "55c47af9-81cd-431c-edae-a30f8ffcc840"
      },
      "execution_count": 3,
      "outputs": [
        {
          "output_type": "stream",
          "name": "stdout",
          "text": [
            "Downloading data from https://storage.googleapis.com/tensorflow/tf-keras-datasets/mnist.npz\n",
            "11490434/11490434 [==============================] - 0s 0us/step\n"
          ]
        }
      ]
    },
    {
      "cell_type": "code",
      "source": [
        "print(x_train.shape),print(y_train.shape),print(x_test.shape),print(y_test.shape)"
      ],
      "metadata": {
        "colab": {
          "base_uri": "https://localhost:8080/"
        },
        "id": "cbuox7Ym12gZ",
        "outputId": "0e5d65de-1ad7-4d75-f208-e07272151f07"
      },
      "execution_count": 4,
      "outputs": [
        {
          "output_type": "stream",
          "name": "stdout",
          "text": [
            "(60000, 28, 28)\n",
            "(60000,)\n",
            "(10000, 28, 28)\n",
            "(10000,)\n"
          ]
        },
        {
          "output_type": "execute_result",
          "data": {
            "text/plain": [
              "(None, None, None, None)"
            ]
          },
          "metadata": {},
          "execution_count": 4
        }
      ]
    },
    {
      "cell_type": "code",
      "source": [
        "from matplotlib import image \n",
        "image_index = 100\n",
        "plt.imshow(x_train[image_index],cmap='gray')\n",
        "plt.show()"
      ],
      "metadata": {
        "colab": {
          "base_uri": "https://localhost:8080/",
          "height": 265
        },
        "id": "v9AyezBt2K4l",
        "outputId": "17bc6f01-a5df-4088-f7bc-6ee7e3e2df84"
      },
      "execution_count": 5,
      "outputs": [
        {
          "output_type": "display_data",
          "data": {
            "text/plain": [
              "<Figure size 432x288 with 1 Axes>"
            ],
            "image/png": "[encoded data removed]"
          },
          "metadata": {
            "needs_background": "light"
          }
        }
      ]
    },
    {
      "cell_type": "code",
      "source": [
        "#reshaping the dataset\n",
        "x_train = x_train.reshape(x_train.shape[0],28,28,1)\n",
        "x_test = x_test.reshape(x_test.shape[0],28,28,1)\n",
        "print(x_train.shape)\n",
        "print(x_test.shape)"
      ],
      "metadata": {
        "colab": {
          "base_uri": "https://localhost:8080/"
        },
        "id": "8eJw1SRM3W0A",
        "outputId": "3d2a4065-cfc9-467e-e22d-aa0853c64ad1"
      },
      "execution_count": 6,
      "outputs": [
        {
          "output_type": "stream",
          "name": "stdout",
          "text": [
            "(60000, 28, 28, 1)\n",
            "(10000, 28, 28, 1)\n"
          ]
        }
      ]
    },
    {
      "cell_type": "code",
      "source": [
        "#data scaling and normalization\n",
        "x_train = x_train.astype('float32')\n",
        "x_test = x_test.astype('float32')\n",
        "x_train /=255-0.5\n",
        "x_test /=255-0.5"
      ],
      "metadata": {
        "id": "rD7AjNJQ4lVw"
      },
      "execution_count": 7,
      "outputs": []
    },
    {
      "cell_type": "code",
      "source": [
        "#creating a sequential model for CNN\n",
        "num_filters = 8\n",
        "filter_size = 3\n",
        "pool_size = 2\n",
        "model = Sequential()\n",
        "model.add(Conv2D(num_filters,filter_size,strides=(1,1),input_shape=(28,28,1)))\n",
        "model.add(MaxPooling2D(pool_size=pool_size))\n",
        "model.add(Flatten())\n",
        "model.add(Dense(10,activation='softmax'))"
      ],
      "metadata": {
        "id": "QBfdM_se5rrH"
      },
      "execution_count": 9,
      "outputs": []
    },
    {
      "cell_type": "code",
      "source": [
        "model.summary()"
      ],
      "metadata": {
        "colab": {
          "base_uri": "https://localhost:8080/"
        },
        "id": "usUw3WUZ8NhF",
        "outputId": "b40e1ea0-a8b9-41c6-b915-b61739a91ee1"
      },
      "execution_count": 10,
      "outputs": [
        {
          "output_type": "stream",
          "name": "stdout",
          "text": [
            "Model: \"sequential_1\"\n",
            "_________________________________________________________________\n",
            " Layer (type)                Output Shape              Param #   \n",
            "=================================================================\n",
            " conv2d (Conv2D)             (None, 26, 26, 8)         80        \n",
            "                                                                 \n",
            " max_pooling2d (MaxPooling2D  (None, 13, 13, 8)        0         \n",
            " )                                                               \n",
            "                                                                 \n",
            " flatten (Flatten)           (None, 1352)              0         \n",
            "                                                                 \n",
            " dense (Dense)               (None, 10)                13530     \n",
            "                                                                 \n",
            "=================================================================\n",
            "Total params: 13,610\n",
            "Trainable params: 13,610\n",
            "Non-trainable params: 0\n",
            "_________________________________________________________________\n"
          ]
        }
      ]
    },
    {
      "cell_type": "code",
      "source": [
        "model.weights"
      ],
      "metadata": {
        "colab": {
          "base_uri": "https://localhost:8080/"
        },
        "id": "yR2cYOjd8S6p",
        "outputId": "6c0234ab-beaf-40c1-bf59-60d8c112e9fb"
      },
      "execution_count": 12,
      "outputs": [
        {
          "output_type": "execute_result",
          "data": {
            "text/plain": [
              "[<tf.Variable 'conv2d/kernel:0' shape=(3, 3, 1, 8) dtype=float32, numpy=\n",
              " array([[[[ 0.16332817,  0.15163401, -0.05651912, -0.01735789,\n",
              "           -0.22826259, -0.03229243, -0.14071995,  0.14696309]],\n",
              " \n",
              "         [[ 0.23371005, -0.18840492, -0.16530912,  0.13344267,\n",
              "            0.05776253,  0.19241664, -0.23306006,  0.20065081]],\n",
              " \n",
              "         [[-0.2019965 , -0.25013223,  0.04087391, -0.13283487,\n",
              "           -0.04539254,  0.17236784, -0.15971708, -0.09649633]]],\n",
              " \n",
              " \n",
              "        [[[-0.04677455, -0.00290465,  0.19670978,  0.07960188,\n",
              "            0.11935899, -0.14105979,  0.03173703,  0.07975832]],\n",
              " \n",
              "         [[ 0.18676594,  0.21811885, -0.17636931,  0.01504895,\n",
              "            0.15274227,  0.03847936,  0.00533521,  0.15596578]],\n",
              " \n",
              "         [[-0.04417016,  0.17323756,  0.26173365,  0.16346705,\n",
              "            0.24155444, -0.20963761, -0.23045728,  0.12223527]]],\n",
              " \n",
              " \n",
              "        [[[-0.05265379,  0.00585082, -0.00622171, -0.09900559,\n",
              "            0.1796008 ,  0.1354185 ,  0.03860193,  0.15061   ]],\n",
              " \n",
              "         [[-0.20420682, -0.16603477, -0.03950079, -0.09767874,\n",
              "            0.22686669,  0.14138013,  0.21153048,  0.15234482]],\n",
              " \n",
              "         [[-0.18592608,  0.21987817,  0.25834137, -0.00156987,\n",
              "           -0.15797955, -0.07166746, -0.05981737,  0.15201667]]]],\n",
              "       dtype=float32)>,\n",
              " <tf.Variable 'conv2d/bias:0' shape=(8,) dtype=float32, numpy=array([0., 0., 0., 0., 0., 0., 0., 0.], dtype=float32)>,\n",
              " <tf.Variable 'dense/kernel:0' shape=(1352, 10) dtype=float32, numpy=\n",
              " array([[ 0.00833409, -0.00337311,  0.04369458, ...,  0.00417955,\n",
              "         -0.04140722, -0.03878855],\n",
              "        [-0.06202628,  0.02319083,  0.03313795, ..., -0.05474195,\n",
              "         -0.01777439,  0.01857648],\n",
              "        [-0.03452366,  0.02212171,  0.04169864, ..., -0.03757856,\n",
              "          0.02141104, -0.03091856],\n",
              "        ...,\n",
              "        [ 0.02875435,  0.05150499,  0.02159923, ..., -0.05094095,\n",
              "          0.03771142, -0.01198233],\n",
              "        [ 0.05295926, -0.00383682,  0.00604766, ...,  0.05127737,\n",
              "          0.05680678, -0.00744756],\n",
              "        [-0.0660952 , -0.04059988,  0.0222576 , ..., -0.03054013,\n",
              "          0.03954216,  0.04654685]], dtype=float32)>,\n",
              " <tf.Variable 'dense/bias:0' shape=(10,) dtype=float32, numpy=array([0., 0., 0., 0., 0., 0., 0., 0., 0., 0.], dtype=float32)>]"
            ]
          },
          "metadata": {},
          "execution_count": 12
        }
      ]
    },
    {
      "cell_type": "code",
      "source": [
        "#compiling the model\n",
        "model.compile('adam',loss='categorical_crossentropy',metrics=['accuracy'])\n",
        "model.fit(x_train,to_categorical(y_train),epochs=3,verbose=1,validation_data=(x_test,to_categorical(y_test)),)"
      ],
      "metadata": {
        "colab": {
          "base_uri": "https://localhost:8080/"
        },
        "id": "62Y-ifDR8Zjy",
        "outputId": "789e2280-f28a-4835-d284-5b943c284429"
      },
      "execution_count": 13,
      "outputs": [
        {
          "output_type": "stream",
          "name": "stdout",
          "text": [
            "Epoch 1/3\n",
            "1875/1875 [==============================] - 14s 3ms/step - loss: 0.3447 - accuracy: 0.9026 - val_loss: 0.2194 - val_accuracy: 0.9372\n",
            "Epoch 2/3\n",
            "1875/1875 [==============================] - 6s 3ms/step - loss: 0.1917 - accuracy: 0.9460 - val_loss: 0.1549 - val_accuracy: 0.9548\n",
            "Epoch 3/3\n",
            "1875/1875 [==============================] - 5s 3ms/step - loss: 0.1406 - accuracy: 0.9605 - val_loss: 0.1195 - val_accuracy: 0.9635\n"
          ]
        },
        {
          "output_type": "execute_result",
          "data": {
            "text/plain": [
              "<keras.callbacks.History at 0x7fcd102aae90>"
            ]
          },
          "metadata": {},
          "execution_count": 13
        }
      ]
    },
    {
      "cell_type": "code",
      "source": [
        "score = model.evaluate(x_test,to_categorical(y_test),verbose=0)\n",
        "print('Test Loss:',score[0])\n",
        "print('Test Accuracy:',score[1])"
      ],
      "metadata": {
        "colab": {
          "base_uri": "https://localhost:8080/"
        },
        "id": "Od7o8eUQ-ERu",
        "outputId": "8c84085f-9ab9-49f7-87c3-aef30fd1ffd8"
      },
      "execution_count": 14,
      "outputs": [
        {
          "output_type": "stream",
          "name": "stdout",
          "text": [
            "Test Loss: 0.11951442807912827\n",
            "Test Accuracy: 0.9635000228881836\n"
          ]
        }
      ]
    },
    {
      "cell_type": "code",
      "source": [
        "#predicting the first 5 images\n",
        "predictions = model.predict(x_test[:5])"
      ],
      "metadata": {
        "colab": {
          "base_uri": "https://localhost:8080/"
        },
        "id": "h_VqkOX9_TaZ",
        "outputId": "997452f9-5008-470a-8bf5-7500d6cc39e8"
      },
      "execution_count": 15,
      "outputs": [
        {
          "output_type": "stream",
          "name": "stdout",
          "text": [
            "1/1 [==============================] - 0s 88ms/step\n"
          ]
        }
      ]
    },
    {
      "cell_type": "code",
      "source": [
        "print(np.argmax(predictions,axis=1))\n",
        "print(y_test[:5])"
      ],
      "metadata": {
        "colab": {
          "base_uri": "https://localhost:8080/"
        },
        "id": "PK_nG9Xv_fIs",
        "outputId": "f7781642-5e21-4b82-90a8-f3fa554bc4b8"
      },
      "execution_count": 16,
      "outputs": [
        {
          "output_type": "stream",
          "name": "stdout",
          "text": [
            "[7 2 1 0 4]\n",
            "[7 2 1 0 4]\n"
          ]
        }
      ]
    },
    {
      "cell_type": "code",
      "source": [],
      "metadata": {
        "id": "_gLjDYSA_xGn"
      },
      "execution_count": null,
      "outputs": []
    }
  ]
}