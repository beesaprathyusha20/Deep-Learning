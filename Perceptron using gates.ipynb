{
  "nbformat": 4,
  "nbformat_minor": 0,
  "metadata": {
    "colab": {
      "name": "Untitled1.ipynb",
      "provenance": [],
      "authorship_tag": "ABX9TyNi3C4FhN2uMGJa3angjDBg",
      "include_colab_link": true
    },
    "kernelspec": {
      "name": "python3",
      "display_name": "Python 3"
    },
    "language_info": {
      "name": "python"
    }
  },
  "cells": [
    {
      "cell_type": "markdown",
      "metadata": {
        "id": "view-in-github",
        "colab_type": "text"
      },
      "source": [
        "<a href=\"https://colab.research.google.com/github/beesaprathyusha20/Deep-Learning/blob/main/Perceptron%20using%20gates.ipynb\" target=\"_parent\"><img src=\"https://colab.research.google.com/assets/colab-badge.svg\" alt=\"Open In Colab\"/></a>"
      ]
    },
    {
      "cell_type": "markdown",
      "source": [
        "Implementation Of Perceptron Using AND Logic Gate"
      ],
      "metadata": {
        "id": "SCugAL5lpQGQ"
      }
    },
    {
      "cell_type": "code",
      "source": [
        "#importing numpy library\n",
        "import numpy as np\n",
        "#define unit step function\n",
        "def unitstep(v):\n",
        "  if v>=0:\n",
        "    return 1\n",
        "  else:\n",
        "    return 0\n",
        "#design perceptron model\n",
        "def perceptron(x,w,b):\n",
        "  v = np.dot(w,x)+b\n",
        "  y = unitstep(v)\n",
        "  return y\n",
        "#AND Logic Function\n",
        "#w1 = 1,w2=1,b = -1.5\n",
        "def AND_logicfunction(x):\n",
        "  w = np.array([1,1])\n",
        "  b = -1.5\n",
        "  return perceptron(x,w,b)\n",
        "#testing the perceptron model\n",
        "test1 = np.array([0,1])\n",
        "test2 = np.array([1,1])\n",
        "test3 = np.array([0,0])\n",
        "test4 = np.array([1,0])\n",
        "print(\"AND({},{})={}\".format(0,1,AND_logicfunction(test1)))\n",
        "print(\"AND({},{})={}\".format(1,1,AND_logicfunction(test2)))\n",
        "print(\"AND({},{})={}\".format(0,0,AND_logicfunction(test3)))\n",
        "print(\"AND({},{})={}\".format(1,0,AND_logicfunction(test4)))\n"
      ],
      "metadata": {
        "colab": {
          "base_uri": "https://localhost:8080/"
        },
        "id": "A1cX7FSapXmx",
        "outputId": "b0c168dc-fba8-4030-eada-c197f49004d8"
      },
      "execution_count": 1,
      "outputs": [
        {
          "output_type": "stream",
          "name": "stdout",
          "text": [
            "AND(0,1)=0\n",
            "AND(1,1)=1\n",
            "AND(0,0)=0\n",
            "AND(1,0)=0\n"
          ]
        }
      ]
    }
  ]
}